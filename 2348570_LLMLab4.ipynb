{
  "nbformat": 4,
  "nbformat_minor": 0,
  "metadata": {
    "colab": {
      "provenance": [],
      "authorship_tag": "ABX9TyNVGyCty+rhd3IfdSBb3sYc",
      "include_colab_link": true
    },
    "kernelspec": {
      "name": "python3",
      "display_name": "Python 3"
    },
    "language_info": {
      "name": "python"
    }
  },
  "cells": [
    {
      "cell_type": "markdown",
      "metadata": {
        "id": "view-in-github",
        "colab_type": "text"
      },
      "source": [
        "<a href=\"https://colab.research.google.com/github/victorjoseij/LLM/blob/main/2348570_LLMLab4.ipynb\" target=\"_parent\"><img src=\"https://colab.research.google.com/assets/colab-badge.svg\" alt=\"Open In Colab\"/></a>"
      ]
    },
    {
      "cell_type": "code",
      "source": [
        "!pip install transformers\n",
        "!pip install datasets"
      ],
      "metadata": {
        "colab": {
          "base_uri": "https://localhost:8080/"
        },
        "id": "qbYcghL46bEN",
        "outputId": "32e38e5d-d29c-400a-ac67-66ad3a881e9d"
      },
      "execution_count": null,
      "outputs": [
        {
          "output_type": "stream",
          "name": "stdout",
          "text": [
            "Requirement already satisfied: transformers in /usr/local/lib/python3.10/dist-packages (4.42.4)\n",
            "Requirement already satisfied: filelock in /usr/local/lib/python3.10/dist-packages (from transformers) (3.15.4)\n",
            "Requirement already satisfied: huggingface-hub<1.0,>=0.23.2 in /usr/local/lib/python3.10/dist-packages (from transformers) (0.23.5)\n",
            "Requirement already satisfied: numpy<2.0,>=1.17 in /usr/local/lib/python3.10/dist-packages (from transformers) (1.26.4)\n",
            "Requirement already satisfied: packaging>=20.0 in /usr/local/lib/python3.10/dist-packages (from transformers) (24.1)\n",
            "Requirement already satisfied: pyyaml>=5.1 in /usr/local/lib/python3.10/dist-packages (from transformers) (6.0.1)\n",
            "Requirement already satisfied: regex!=2019.12.17 in /usr/local/lib/python3.10/dist-packages (from transformers) (2024.5.15)\n",
            "Requirement already satisfied: requests in /usr/local/lib/python3.10/dist-packages (from transformers) (2.32.3)\n",
            "Requirement already satisfied: safetensors>=0.4.1 in /usr/local/lib/python3.10/dist-packages (from transformers) (0.4.3)\n",
            "Requirement already satisfied: tokenizers<0.20,>=0.19 in /usr/local/lib/python3.10/dist-packages (from transformers) (0.19.1)\n",
            "Requirement already satisfied: tqdm>=4.27 in /usr/local/lib/python3.10/dist-packages (from transformers) (4.66.4)\n",
            "Requirement already satisfied: fsspec>=2023.5.0 in /usr/local/lib/python3.10/dist-packages (from huggingface-hub<1.0,>=0.23.2->transformers) (2024.5.0)\n",
            "Requirement already satisfied: typing-extensions>=3.7.4.3 in /usr/local/lib/python3.10/dist-packages (from huggingface-hub<1.0,>=0.23.2->transformers) (4.12.2)\n",
            "Requirement already satisfied: charset-normalizer<4,>=2 in /usr/local/lib/python3.10/dist-packages (from requests->transformers) (3.3.2)\n",
            "Requirement already satisfied: idna<4,>=2.5 in /usr/local/lib/python3.10/dist-packages (from requests->transformers) (3.7)\n",
            "Requirement already satisfied: urllib3<3,>=1.21.1 in /usr/local/lib/python3.10/dist-packages (from requests->transformers) (2.0.7)\n",
            "Requirement already satisfied: certifi>=2017.4.17 in /usr/local/lib/python3.10/dist-packages (from requests->transformers) (2024.7.4)\n",
            "Requirement already satisfied: datasets in /usr/local/lib/python3.10/dist-packages (2.20.0)\n",
            "Requirement already satisfied: filelock in /usr/local/lib/python3.10/dist-packages (from datasets) (3.15.4)\n",
            "Requirement already satisfied: numpy>=1.17 in /usr/local/lib/python3.10/dist-packages (from datasets) (1.26.4)\n",
            "Requirement already satisfied: pyarrow>=15.0.0 in /usr/local/lib/python3.10/dist-packages (from datasets) (17.0.0)\n",
            "Requirement already satisfied: pyarrow-hotfix in /usr/local/lib/python3.10/dist-packages (from datasets) (0.6)\n",
            "Requirement already satisfied: dill<0.3.9,>=0.3.0 in /usr/local/lib/python3.10/dist-packages (from datasets) (0.3.8)\n",
            "Requirement already satisfied: pandas in /usr/local/lib/python3.10/dist-packages (from datasets) (2.1.4)\n",
            "Requirement already satisfied: requests>=2.32.2 in /usr/local/lib/python3.10/dist-packages (from datasets) (2.32.3)\n",
            "Requirement already satisfied: tqdm>=4.66.3 in /usr/local/lib/python3.10/dist-packages (from datasets) (4.66.4)\n",
            "Requirement already satisfied: xxhash in /usr/local/lib/python3.10/dist-packages (from datasets) (3.4.1)\n",
            "Requirement already satisfied: multiprocess in /usr/local/lib/python3.10/dist-packages (from datasets) (0.70.16)\n",
            "Requirement already satisfied: fsspec<=2024.5.0,>=2023.1.0 in /usr/local/lib/python3.10/dist-packages (from fsspec[http]<=2024.5.0,>=2023.1.0->datasets) (2024.5.0)\n",
            "Requirement already satisfied: aiohttp in /usr/local/lib/python3.10/dist-packages (from datasets) (3.9.5)\n",
            "Requirement already satisfied: huggingface-hub>=0.21.2 in /usr/local/lib/python3.10/dist-packages (from datasets) (0.23.5)\n",
            "Requirement already satisfied: packaging in /usr/local/lib/python3.10/dist-packages (from datasets) (24.1)\n",
            "Requirement already satisfied: pyyaml>=5.1 in /usr/local/lib/python3.10/dist-packages (from datasets) (6.0.1)\n",
            "Requirement already satisfied: aiosignal>=1.1.2 in /usr/local/lib/python3.10/dist-packages (from aiohttp->datasets) (1.3.1)\n",
            "Requirement already satisfied: attrs>=17.3.0 in /usr/local/lib/python3.10/dist-packages (from aiohttp->datasets) (23.2.0)\n",
            "Requirement already satisfied: frozenlist>=1.1.1 in /usr/local/lib/python3.10/dist-packages (from aiohttp->datasets) (1.4.1)\n",
            "Requirement already satisfied: multidict<7.0,>=4.5 in /usr/local/lib/python3.10/dist-packages (from aiohttp->datasets) (6.0.5)\n",
            "Requirement already satisfied: yarl<2.0,>=1.0 in /usr/local/lib/python3.10/dist-packages (from aiohttp->datasets) (1.9.4)\n",
            "Requirement already satisfied: async-timeout<5.0,>=4.0 in /usr/local/lib/python3.10/dist-packages (from aiohttp->datasets) (4.0.3)\n",
            "Requirement already satisfied: typing-extensions>=3.7.4.3 in /usr/local/lib/python3.10/dist-packages (from huggingface-hub>=0.21.2->datasets) (4.12.2)\n",
            "Requirement already satisfied: charset-normalizer<4,>=2 in /usr/local/lib/python3.10/dist-packages (from requests>=2.32.2->datasets) (3.3.2)\n",
            "Requirement already satisfied: idna<4,>=2.5 in /usr/local/lib/python3.10/dist-packages (from requests>=2.32.2->datasets) (3.7)\n",
            "Requirement already satisfied: urllib3<3,>=1.21.1 in /usr/local/lib/python3.10/dist-packages (from requests>=2.32.2->datasets) (2.0.7)\n",
            "Requirement already satisfied: certifi>=2017.4.17 in /usr/local/lib/python3.10/dist-packages (from requests>=2.32.2->datasets) (2024.7.4)\n",
            "Requirement already satisfied: python-dateutil>=2.8.2 in /usr/local/lib/python3.10/dist-packages (from pandas->datasets) (2.8.2)\n",
            "Requirement already satisfied: pytz>=2020.1 in /usr/local/lib/python3.10/dist-packages (from pandas->datasets) (2024.1)\n",
            "Requirement already satisfied: tzdata>=2022.1 in /usr/local/lib/python3.10/dist-packages (from pandas->datasets) (2024.1)\n",
            "Requirement already satisfied: six>=1.5 in /usr/local/lib/python3.10/dist-packages (from python-dateutil>=2.8.2->pandas->datasets) (1.16.0)\n"
          ]
        }
      ]
    },
    {
      "cell_type": "code",
      "execution_count": null,
      "metadata": {
        "id": "SE_syjyaMTiD",
        "colab": {
          "base_uri": "https://localhost:8080/",
          "height": 350,
          "referenced_widgets": [
            "aea9b03e86224ae98121f74d72a7628c",
            "12b0b321c5254cce8c2045eed88c69fa",
            "11d1b8268a324494a462be97315d8004",
            "6b1a01e303e542d5a29d2c54cb11f467",
            "2fcb742705554f3b9b0917b00c74b8ac",
            "d692255f6e424c919ccdb2e4980f27d5",
            "59ae7fd956a049a0a1818f6b8159fd98",
            "783b26dd1dfb4174b77c84854aaac58d",
            "d309b043f55a42c5bdec6f35eaaae644",
            "84f77ce975c547eabf0dad814bd63a22",
            "03efbdfa79c84551886a0b763fdf234e",
            "035c7cca188b4c20bd47433c0a83070f",
            "4be8e134800c4aaea41cd3c2022aaf4a",
            "85b737ecf96946ac93e288463d1d4ccf",
            "80b823a82a734de9a6b88fcc4fc75c59",
            "c2811dc104034c409f4195f5a4735e82",
            "77e1d26a02ac4830bd44e7795ddd7f5a",
            "7b3c744916bf41f1bbc3a2bd5fef3d20",
            "e1e5e97ec5b94a54aefc7abddd209ed5",
            "73eb861500cd41cfb4794f6c40e2e148",
            "7e8c2ddfb64541ecbd8199c33ed1f139",
            "2b7d67eb544c4d0aae08502ad6eb5953",
            "c8789219f0964cb590691e2ae51db0e0",
            "a80afcde13e7493b99e9fe815fab2ffc",
            "6343970b74184a8eb871d81b2b76d270",
            "14899361e33a4d8680ec3cd279f9012e",
            "065c786a022f4d3594861f466c092155",
            "3c31ad21ec0d4ea29515e95523a90063",
            "ef2cc84fc873401381992dbc812005b9",
            "c180fad5a72144d79ea1e484032b915a",
            "cab07bce3d57430180a36ad2cca52926",
            "9af72c8c9fa943edb00e4474b8a4d68d",
            "73e71aebb93b446b8148294cb733ef7d",
            "601b5c52f76b4ce1b28e3c8ea0bd8b20",
            "481ecd6e50b74c1d9003e4cecacf5630",
            "c73d5c5bd0a34a62b4ae70936babc52b",
            "caa0886fe75d4351a7ba5478ff58ee85",
            "5b352af169244b54988e499d1e548a21",
            "6798877f21814cd7bd27a89ecc35f69a",
            "4c12cd7ba3144a67aa54694d9c66823f",
            "49ed6b50d28943eeb3d3e6aae93d6ae9",
            "695e8d95d5b4411583e484446ba9c73e",
            "07149ba7b42d4509b7c4a40ea8368625",
            "d9a0c74db61045da92f330e526f62f5f",
            "a2c960c9417745f1a7f426228cf68a6e",
            "2a6909ea67924040ad3746f290b76ea7",
            "bc8d9c23ca2541c3a2590ce10c42f4bf",
            "9d8297f603044e70a637f5fce389f6c2",
            "c7e20f2b84a84157904535d523ad8c38",
            "8830ca9514fa4c289fa641c45a9441b8",
            "8e5864cad59742bea3d55b0ed7bbaf5f",
            "92cd8051e6cc4443b80de16a463d4660",
            "d3713abe498d4a60b2b153c0ae4acb11",
            "198dd65fbab34d6ca4b08bdcf825920d",
            "8aa2a685b65448b38bb14bee3713d6ea",
            "898e57db797749edbe006b89669be765",
            "8427c139d75f46adbd14801425de45ea",
            "105769ec7c08442dbd4f84c22dd7767e",
            "7df12050e5464485ba60def7b393f167",
            "0c66a0ff3bca4520824c102ec15ed9d0",
            "817f756ac04d4ddb9cb6527b9f5f1aae",
            "26bb581847234e6897057ab2419c9db3",
            "2a0f48486e9a4cb2ac8fbd8692e121ae",
            "dea108a22a414329a1fe52f97cf56afa",
            "57aae3b177c64be99fa45dbb4ee84e3b",
            "ed0a9988e7aa4f759d31ee0ebcb030fb",
            "f1011650b61945d18513525825a6f29f",
            "4b3f7cc3bc22477e88f3558e9d90e463",
            "b9b2302f78f04ab09ad57411acff4ba9",
            "a2397927ba3941b480f6fc31a4ddc01e",
            "9b4d2c915e98453da6dc64fcfc6d943d",
            "70178bad788143b7bb6d073c97b9e057",
            "d7b176b8aecf4f4bac602624d357fd8d",
            "8a2bc0e1179a467ab54a84aba9dfe5f1",
            "56315b7cd4834834a08e34a4f41a54cc",
            "4972e11639dd4dfea6bbaf2e28a2ab58",
            "cbf0579df4b042449e76dc57ae025193"
          ]
        },
        "outputId": "60352e76-54a4-4cbb-bd0a-1f1f4401f7f9"
      },
      "outputs": [
        {
          "output_type": "stream",
          "name": "stderr",
          "text": [
            "/usr/local/lib/python3.10/dist-packages/huggingface_hub/utils/_token.py:89: UserWarning: \n",
            "The secret `HF_TOKEN` does not exist in your Colab secrets.\n",
            "To authenticate with the Hugging Face Hub, create a token in your settings tab (https://huggingface.co/settings/tokens), set it as secret in your Google Colab and restart your session.\n",
            "You will be able to reuse this secret in all of your notebooks.\n",
            "Please note that authentication is recommended but still optional to access public models or datasets.\n",
            "  warnings.warn(\n"
          ]
        },
        {
          "output_type": "display_data",
          "data": {
            "text/plain": [
              "Downloading readme:   0%|          | 0.00/7.81k [00:00<?, ?B/s]"
            ],
            "application/vnd.jupyter.widget-view+json": {
              "version_major": 2,
              "version_minor": 0,
              "model_id": "aea9b03e86224ae98121f74d72a7628c"
            }
          },
          "metadata": {}
        },
        {
          "output_type": "display_data",
          "data": {
            "text/plain": [
              "Downloading data:   0%|          | 0.00/21.0M [00:00<?, ?B/s]"
            ],
            "application/vnd.jupyter.widget-view+json": {
              "version_major": 2,
              "version_minor": 0,
              "model_id": "035c7cca188b4c20bd47433c0a83070f"
            }
          },
          "metadata": {}
        },
        {
          "output_type": "display_data",
          "data": {
            "text/plain": [
              "Downloading data:   0%|          | 0.00/20.5M [00:00<?, ?B/s]"
            ],
            "application/vnd.jupyter.widget-view+json": {
              "version_major": 2,
              "version_minor": 0,
              "model_id": "c8789219f0964cb590691e2ae51db0e0"
            }
          },
          "metadata": {}
        },
        {
          "output_type": "display_data",
          "data": {
            "text/plain": [
              "Downloading data:   0%|          | 0.00/42.0M [00:00<?, ?B/s]"
            ],
            "application/vnd.jupyter.widget-view+json": {
              "version_major": 2,
              "version_minor": 0,
              "model_id": "601b5c52f76b4ce1b28e3c8ea0bd8b20"
            }
          },
          "metadata": {}
        },
        {
          "output_type": "display_data",
          "data": {
            "text/plain": [
              "Generating train split:   0%|          | 0/25000 [00:00<?, ? examples/s]"
            ],
            "application/vnd.jupyter.widget-view+json": {
              "version_major": 2,
              "version_minor": 0,
              "model_id": "a2c960c9417745f1a7f426228cf68a6e"
            }
          },
          "metadata": {}
        },
        {
          "output_type": "display_data",
          "data": {
            "text/plain": [
              "Generating test split:   0%|          | 0/25000 [00:00<?, ? examples/s]"
            ],
            "application/vnd.jupyter.widget-view+json": {
              "version_major": 2,
              "version_minor": 0,
              "model_id": "898e57db797749edbe006b89669be765"
            }
          },
          "metadata": {}
        },
        {
          "output_type": "display_data",
          "data": {
            "text/plain": [
              "Generating unsupervised split:   0%|          | 0/50000 [00:00<?, ? examples/s]"
            ],
            "application/vnd.jupyter.widget-view+json": {
              "version_major": 2,
              "version_minor": 0,
              "model_id": "f1011650b61945d18513525825a6f29f"
            }
          },
          "metadata": {}
        }
      ],
      "source": [
        "from datasets import load_dataset\n",
        "dataset=load_dataset('imdb')"
      ]
    },
    {
      "cell_type": "markdown",
      "source": [
        "Take equal ratio of positive and negative reviews"
      ],
      "metadata": {
        "id": "5fIzRsFYy2ri"
      }
    },
    {
      "cell_type": "code",
      "source": [
        "import random\n",
        "postive = [x for x in dataset['train'] if x['label'] == 1][:2500]\n",
        "negative = [x for x in dataset['train'] if x['label'] == 0][:2500]\n",
        "train_dataset = postive + negative\n",
        "random.shuffle(train_dataset)\n",
        "positive_test = [x for x in dataset['test'] if x['label'] == 1][:2500]\n",
        "negative_test = [x for x in dataset['test'] if x['label'] == 0][:2500]\n",
        "test_dataset = positive_test + negative_test\n",
        "random.shuffle(test_dataset)"
      ],
      "metadata": {
        "id": "J8hMiRxqTijY"
      },
      "execution_count": null,
      "outputs": []
    },
    {
      "cell_type": "markdown",
      "source": [
        "Loading Tokenizer and BERT model"
      ],
      "metadata": {
        "id": "z1kNmia6zD62"
      }
    },
    {
      "cell_type": "code",
      "source": [
        "from transformers import BertTokenizer, TFBertForSequenceClassification\n",
        "tokenizer=BertTokenizer.from_pretrained('bert-base-uncased')\n",
        "model=TFBertForSequenceClassification.from_pretrained('bert-base-uncased', num_labels=2)"
      ],
      "metadata": {
        "colab": {
          "base_uri": "https://localhost:8080/",
          "height": 250,
          "referenced_widgets": [
            "05124db5e5c8419cb3f908001da56260",
            "f4d27009ff434bf9ab179ccbb6c2507f",
            "b9f2933e13c94535acf35db801d8d61c",
            "048a39a9ff774dae8066f2fb4151f859",
            "6e2ef8ad33a343f583361a9aaab56673",
            "202ed71e705d40be94e2836ddf9980e5",
            "167b4e6999f1468cada3434e15bf005a",
            "97c7f338400541748a0769488d2d58d3",
            "948c74d2149741fb89bbe19ab52dc6fc",
            "3b756164ee43477cab6eec4bd0f82a77",
            "980c52e069bd4ce290162a2b91f79a17",
            "8d60936d3cce4690a7a1fd4df68621f3",
            "376cec7ce270452f98295acc9f958a8b",
            "683dcbcd184244c7ab1e08d429b460a8",
            "3b0da6d613514c7495cd55b7b4013bd3",
            "2b3e1b2328344df2a8406f41d5a379ca",
            "56689ff892db46b28b3e419535ffe14f",
            "3fa9e90b14e743338c1568fac5ea4fde",
            "48fe4761a0a844829fc5b4156898aff4",
            "30f8cf5f89204619bd52c37cd47fff50",
            "1ae182dec80d4f379c09b5d7c8c19685",
            "bc7ca76294e246f3a28dd1a0d2388641",
            "110751970362430c9b62e1e00f4233a4",
            "788f4cb97c8b4b2ca69968699562ddf5",
            "2766694eea5a43c0b93bd10a365a231a",
            "839133f921a8482f83250ffd3931e387",
            "5ccef28f129c4937ac9fc9f732e490f6",
            "9934afd15cdf4373b1bdc45b6c86f868",
            "6523b7c8325b417595a177ca41596677",
            "1c8ae03c6dac4f5f881f5ec769ef927d",
            "0737ca171343435a8ab1e98a7e45a0ee",
            "c98677fac9cb467596d6c4f413adf948",
            "4cbadf29dfc6418698d46e9e112d6e25",
            "e03c06f69a304bf486e4d8fac9473aa6",
            "e5836c5f18de4a23b9f743dbaadb1b46",
            "34b4c74960314e208d84832d35bb58f2",
            "534948565da943c1a4512ab44d56fb39",
            "2be51fc7b9574d7eb895ae2bf33d3b7d",
            "609c1bdd775f4c5089a26dcd4439069f",
            "a0a4e7bcc22e4862abfad11a3aa54cf9",
            "fd9ed26a5115451da31d47f20366c04e",
            "c06027c5e2c242a3893c18824f88df87",
            "cbb1910c6c05404fbd8d6cab72b1ffff",
            "04e774268e9d4b96b6ec3423e92dc4ec",
            "6f3ee3385ab04a29ae73ac2fe7a7f564",
            "a452cdb10be4422493ff035795975fff",
            "6ab4bf1ff223499bafe9c005c0b601c5",
            "2a01eafe44cd4552bcc74cf864d91d63",
            "40ce5cc4e5904e5d892171e628ca6ebe",
            "f9a08b174d274f20957eee49623b2d93",
            "c9aa2548985742aeb6ad4d3d1a4f503d",
            "2877618091d54b758ff18af36eba5277",
            "470ac36621f14c06b02f4fb33abb26ee",
            "7438ba275b3043369f5dd082ec80f07e",
            "52cd4de8602045939d3dae06eac6cf5d"
          ]
        },
        "id": "1KaseIzVM46U",
        "outputId": "a8ee75b0-4928-4155-ebd3-30bf68916bf7"
      },
      "execution_count": null,
      "outputs": [
        {
          "output_type": "display_data",
          "data": {
            "text/plain": [
              "tokenizer_config.json:   0%|          | 0.00/48.0 [00:00<?, ?B/s]"
            ],
            "application/vnd.jupyter.widget-view+json": {
              "version_major": 2,
              "version_minor": 0,
              "model_id": "05124db5e5c8419cb3f908001da56260"
            }
          },
          "metadata": {}
        },
        {
          "output_type": "display_data",
          "data": {
            "text/plain": [
              "vocab.txt:   0%|          | 0.00/232k [00:00<?, ?B/s]"
            ],
            "application/vnd.jupyter.widget-view+json": {
              "version_major": 2,
              "version_minor": 0,
              "model_id": "8d60936d3cce4690a7a1fd4df68621f3"
            }
          },
          "metadata": {}
        },
        {
          "output_type": "display_data",
          "data": {
            "text/plain": [
              "tokenizer.json:   0%|          | 0.00/466k [00:00<?, ?B/s]"
            ],
            "application/vnd.jupyter.widget-view+json": {
              "version_major": 2,
              "version_minor": 0,
              "model_id": "110751970362430c9b62e1e00f4233a4"
            }
          },
          "metadata": {}
        },
        {
          "output_type": "display_data",
          "data": {
            "text/plain": [
              "config.json:   0%|          | 0.00/570 [00:00<?, ?B/s]"
            ],
            "application/vnd.jupyter.widget-view+json": {
              "version_major": 2,
              "version_minor": 0,
              "model_id": "e03c06f69a304bf486e4d8fac9473aa6"
            }
          },
          "metadata": {}
        },
        {
          "output_type": "display_data",
          "data": {
            "text/plain": [
              "model.safetensors:   0%|          | 0.00/440M [00:00<?, ?B/s]"
            ],
            "application/vnd.jupyter.widget-view+json": {
              "version_major": 2,
              "version_minor": 0,
              "model_id": "6f3ee3385ab04a29ae73ac2fe7a7f564"
            }
          },
          "metadata": {}
        },
        {
          "output_type": "stream",
          "name": "stderr",
          "text": [
            "All PyTorch model weights were used when initializing TFBertForSequenceClassification.\n",
            "\n",
            "Some weights or buffers of the TF 2.0 model TFBertForSequenceClassification were not initialized from the PyTorch model and are newly initialized: ['classifier.weight', 'classifier.bias']\n",
            "You should probably TRAIN this model on a down-stream task to be able to use it for predictions and inference.\n"
          ]
        }
      ]
    },
    {
      "cell_type": "markdown",
      "source": [
        "Defining Train and Test data"
      ],
      "metadata": {
        "id": "gZewNgUtzTxD"
      }
    },
    {
      "cell_type": "code",
      "source": [
        "train_texts = [x['text'] for x in train_dataset]\n",
        "train_labels = [x['label'] for x in train_dataset]\n",
        "test_texts = [x['text'] for x in test_dataset]\n",
        "test_labels = [x['label'] for x in test_dataset]"
      ],
      "metadata": {
        "id": "E8AhtEzBuQG8"
      },
      "execution_count": null,
      "outputs": []
    },
    {
      "cell_type": "markdown",
      "source": [
        "Tokenizing train and test test"
      ],
      "metadata": {
        "id": "wNAT3Az-zY_0"
      }
    },
    {
      "cell_type": "code",
      "source": [
        "import tensorflow as tf\n",
        "train_encodings=tokenizer(train_texts, truncation=True, padding=True, max_length=128)\n",
        "test_encodings=tokenizer(test_texts, truncation=True, padding=True, max_length=128)"
      ],
      "metadata": {
        "id": "cDKeeY3fOu2t"
      },
      "execution_count": null,
      "outputs": []
    },
    {
      "cell_type": "markdown",
      "source": [
        "Mapping train and test to labels"
      ],
      "metadata": {
        "id": "WoGQGWIKzcms"
      }
    },
    {
      "cell_type": "code",
      "source": [
        "train_dataset=tf.data.Dataset.from_tensor_slices((dict(train_encodings), train_labels))\n",
        "test_dataset=tf.data.Dataset.from_tensor_slices((dict(test_encodings), test_labels))\n",
        "train_dataset=train_dataset.shuffle(1000).batch(8).prefetch(tf.data.AUTOTUNE)\n",
        "test_dataset=test_dataset.batch(8).prefetch(tf.data.AUTOTUNE)"
      ],
      "metadata": {
        "id": "ZGWcly0GQLht"
      },
      "execution_count": null,
      "outputs": []
    },
    {
      "cell_type": "markdown",
      "source": [
        "Compiling the model"
      ],
      "metadata": {
        "id": "MD8mofiDzihm"
      }
    },
    {
      "cell_type": "code",
      "source": [
        "optimizer = tf.keras.optimizers.Adam(learning_rate=2e-5)\n",
        "loss = tf.keras.losses.SparseCategoricalCrossentropy(from_logits=True)\n",
        "model.compile(optimizer=optimizer, loss=loss, metrics=['accuracy'])"
      ],
      "metadata": {
        "id": "sUs1QlUSRaTt"
      },
      "execution_count": null,
      "outputs": []
    },
    {
      "cell_type": "markdown",
      "source": [
        "Fitting the model"
      ],
      "metadata": {
        "id": "LfUgs_tdzl1H"
      }
    },
    {
      "cell_type": "code",
      "source": [
        "model.fit(train_dataset, epochs=3, validation_data=test_dataset)"
      ],
      "metadata": {
        "colab": {
          "base_uri": "https://localhost:8080/"
        },
        "id": "xE0ZX6BRReCy",
        "outputId": "b98addfc-4011-4847-a4d3-c890fe71aa69"
      },
      "execution_count": null,
      "outputs": [
        {
          "output_type": "stream",
          "name": "stdout",
          "text": [
            "Epoch 1/3\n",
            "625/625 [==============================] - 277s 374ms/step - loss: 0.3960 - accuracy: 0.8168 - val_loss: 0.3327 - val_accuracy: 0.8554\n",
            "Epoch 2/3\n",
            "625/625 [==============================] - 233s 373ms/step - loss: 0.1925 - accuracy: 0.9278 - val_loss: 0.3772 - val_accuracy: 0.8672\n",
            "Epoch 3/3\n",
            "625/625 [==============================] - 201s 322ms/step - loss: 0.0779 - accuracy: 0.9748 - val_loss: 0.4186 - val_accuracy: 0.8650\n"
          ]
        },
        {
          "output_type": "execute_result",
          "data": {
            "text/plain": [
              "<tf_keras.src.callbacks.History at 0x7e7690140d60>"
            ]
          },
          "metadata": {},
          "execution_count": 11
        }
      ]
    },
    {
      "cell_type": "markdown",
      "source": [
        "Checking the Accuracy"
      ],
      "metadata": {
        "id": "HkBC85gqzoPd"
      }
    },
    {
      "cell_type": "code",
      "source": [
        "loss, accuracy = model.evaluate(test_dataset)\n",
        "print(f\"Test Accuracy: {accuracy:.2f}\")"
      ],
      "metadata": {
        "colab": {
          "base_uri": "https://localhost:8080/"
        },
        "id": "74Gy9hjZRhxN",
        "outputId": "d1e78a6c-27ec-476c-c27e-f70b33b70a83"
      },
      "execution_count": null,
      "outputs": [
        {
          "output_type": "stream",
          "name": "stdout",
          "text": [
            "625/625 [==============================] - 52s 83ms/step - loss: 0.4186 - accuracy: 0.8650\n",
            "Test Accuracy: 0.87\n"
          ]
        }
      ]
    },
    {
      "cell_type": "markdown",
      "source": [
        "Sentiment Prediction function"
      ],
      "metadata": {
        "id": "XRsYrALhzqeg"
      }
    },
    {
      "cell_type": "code",
      "source": [
        "def predict_sentiment(text):\n",
        "    inputs = tokenizer(text, return_tensors=\"tf\", truncation=True, padding=True, max_length=128)\n",
        "    outputs = model(inputs)\n",
        "    logits = outputs.logits\n",
        "    predictions = tf.nn.softmax(logits, axis=-1)\n",
        "    sentiment = tf.argmax(predictions, axis=1).numpy()[0]\n",
        "    return sentiment"
      ],
      "metadata": {
        "id": "BKu67_YWTTl7"
      },
      "execution_count": null,
      "outputs": []
    },
    {
      "cell_type": "markdown",
      "source": [
        "Predicting"
      ],
      "metadata": {
        "id": "yWZr75W_zune"
      }
    },
    {
      "cell_type": "code",
      "source": [
        "text = input(\"Enter text for sentiment analysis: \")\n",
        "sentiment = predict_sentiment(text)\n",
        "sentiment_label = \"Positive\" if sentiment == 1 else \"Negative\"\n",
        "print(f\"Sentiment: {sentiment_label}\")"
      ],
      "metadata": {
        "colab": {
          "base_uri": "https://localhost:8080/"
        },
        "id": "d67Vj-rNjOic",
        "outputId": "10ccd109-4056-4359-84f6-80a7ee3fe867"
      },
      "execution_count": null,
      "outputs": [
        {
          "output_type": "stream",
          "name": "stdout",
          "text": [
            "Enter text for sentiment analysis: i have no confidence to talk  with  strangers\n",
            "Sentiment: Negative\n"
          ]
        }
      ]
    }
  ]
}